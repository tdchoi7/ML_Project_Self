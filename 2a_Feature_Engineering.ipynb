{
 "cells": [
  {
   "cell_type": "markdown",
   "metadata": {},
   "source": [
    "# Important Feature Exploration"
   ]
  },
  {
   "cell_type": "code",
   "execution_count": 1,
   "metadata": {},
   "outputs": [],
   "source": [
    "import numpy as np\n",
    "import pandas as pd\n",
    "pd.set_option('display.max_columns', None)\n",
    "\n",
    "from matplotlib import pyplot as plt\n",
    "import seaborn as sns\n",
    "\n",
    "import copy"
   ]
  },
  {
   "cell_type": "code",
   "execution_count": 2,
   "metadata": {},
   "outputs": [],
   "source": [
    "# importing important features lists\n",
    "lasso_list = pd.read_csv('..\\hp_1c_important_feat_lasso.csv', index_col=0)\n",
    "enet_list = pd.read_csv('..\\hp_1c_important_feat_enet.csv', index_col=0)\n",
    "rfr_list = pd.read_csv('..\\hp_1c_important_feat_rfr.csv', index_col=0)\n",
    "gbm_list = pd.read_csv('..\\hp_1c_important_feat_gbr.csv', index_col=0)\n",
    "xgb_list = pd.read_csv('..\\hp_1c_important_feat_xgb.csv', index_col=0)\n",
    "# full_list = pd.read_csv('..\\hp_1c_important_feat_full.csv', index_col=0)\n",
    "\n",
    "# importing the datasets\n",
    "hp_train = pd.read_csv('..\\hp_1b_null_impute_train.csv', index_col=0)\n",
    "hp_test = pd.read_csv('..\\hp_1b_null_impute_test.csv', index_col=0)\n",
    "\n",
    "# saving train index\n",
    "hp_index = list(hp_train.index)\n",
    "\n",
    "combo = pd.DataFrame(np.concatenate([hp_train, hp_test]))\n",
    "combo.columns = hp_train.columns\n",
    "\n",
    "for col in combo.columns: \n",
    "    combo[col] = combo[col].astype('float', errors='ignore')\n",
    "    \n",
    "combo_cols = list(combo.columns)"
   ]
  },
  {
   "cell_type": "code",
   "execution_count": 3,
   "metadata": {},
   "outputs": [],
   "source": [
    "# create list of dfs\n",
    "df_list = [lasso_list, enet_list, rfr_list, gbm_list, xgb_list]\n",
    "# https://stackoverflow.com/questions/14745022/how-to-split-a-dataframe-string-column-into-two-columns\n",
    "for df in df_list:\n",
    "    df.columns = ['FullFeat']\n",
    "    # create additional columns for values in the features\n",
    "    df[['MainFeat', 'SubFeat']] = df['FullFeat'].str.split('_', 1, expand=True)\n",
    "    # replace null values with empty space instead of None\n",
    "    df.loc[df['SubFeat'].isnull(), 'SubFeat'] = ''"
   ]
  },
  {
   "cell_type": "code",
   "execution_count": 4,
   "metadata": {
    "scrolled": false
   },
   "outputs": [],
   "source": [
    "lasso_tokeep = set(lasso_list['MainFeat'])\n",
    "enet_tokeep = set(enet_list['MainFeat'])\n",
    "rfr_tokeep = set(rfr_list['MainFeat'])\n",
    "gbm_tokeep = set(gbm_list['MainFeat'])\n",
    "xgb_tokeep = set(xgb_list['MainFeat'])\n",
    "# full_tokeep = set(full_list['MainFeat'])"
   ]
  },
  {
   "cell_type": "code",
   "execution_count": 5,
   "metadata": {
    "scrolled": false
   },
   "outputs": [
    {
     "data": {
      "text/plain": [
       "['BsmtExposure',\n",
       " 'BsmtFinType1',\n",
       " 'BsmtFinType2',\n",
       " 'BsmtQual',\n",
       " 'Condition1',\n",
       " 'ExterCond',\n",
       " 'ExterQual',\n",
       " 'Exterior1st',\n",
       " 'Exterior2nd',\n",
       " 'Fence',\n",
       " 'FireplaceQu',\n",
       " 'Foundation',\n",
       " 'Functional',\n",
       " 'GarageCond',\n",
       " 'GarageQual',\n",
       " 'GarageType',\n",
       " 'HeatingQC',\n",
       " 'KitchenQual',\n",
       " 'LotShape',\n",
       " 'MSSubClass',\n",
       " 'MSZoning',\n",
       " 'MasVnrType',\n",
       " 'MoSold',\n",
       " 'Neighborhood',\n",
       " 'PavedDrive',\n",
       " 'RoofStyle',\n",
       " 'SaleCondition',\n",
       " 'SaleType']"
      ]
     },
     "execution_count": 5,
     "metadata": {},
     "output_type": "execute_result"
    }
   ],
   "source": [
    "# https://www.pythonpool.com/python-list-intersection/\n",
    "intx_tokeep = sorted(list(lasso_tokeep & enet_tokeep & rfr_tokeep & gbm_tokeep & xgb_tokeep))\n",
    "intx_tokeep"
   ]
  },
  {
   "cell_type": "markdown",
   "metadata": {},
   "source": [
    "# Transforming Data to Numerical"
   ]
  },
  {
   "cell_type": "markdown",
   "metadata": {},
   "source": [
    "# Street"
   ]
  },
  {
   "cell_type": "code",
   "execution_count": 6,
   "metadata": {
    "scrolled": true
   },
   "outputs": [
    {
     "data": {
      "text/html": [
       "<div>\n",
       "<style scoped>\n",
       "    .dataframe tbody tr th:only-of-type {\n",
       "        vertical-align: middle;\n",
       "    }\n",
       "\n",
       "    .dataframe tbody tr th {\n",
       "        vertical-align: top;\n",
       "    }\n",
       "\n",
       "    .dataframe thead th {\n",
       "        text-align: right;\n",
       "    }\n",
       "</style>\n",
       "<table border=\"1\" class=\"dataframe\">\n",
       "  <thead>\n",
       "    <tr style=\"text-align: right;\">\n",
       "      <th></th>\n",
       "      <th>Street</th>\n",
       "    </tr>\n",
       "  </thead>\n",
       "  <tbody>\n",
       "    <tr>\n",
       "      <th>0</th>\n",
       "      <td>1</td>\n",
       "    </tr>\n",
       "    <tr>\n",
       "      <th>1</th>\n",
       "      <td>1</td>\n",
       "    </tr>\n",
       "    <tr>\n",
       "      <th>2</th>\n",
       "      <td>1</td>\n",
       "    </tr>\n",
       "    <tr>\n",
       "      <th>3</th>\n",
       "      <td>1</td>\n",
       "    </tr>\n",
       "    <tr>\n",
       "      <th>4</th>\n",
       "      <td>1</td>\n",
       "    </tr>\n",
       "  </tbody>\n",
       "</table>\n",
       "</div>"
      ],
      "text/plain": [
       "  Street\n",
       "0      1\n",
       "1      1\n",
       "2      1\n",
       "3      1\n",
       "4      1"
      ]
     },
     "execution_count": 6,
     "metadata": {},
     "output_type": "execute_result"
    }
   ],
   "source": [
    "combo.loc[combo['Street']=='Pave', 'Street'] = 1\n",
    "combo.loc[combo['Street']=='Grvl', 'Street'] = 0\n",
    "\n",
    "combo[['Street']].head()"
   ]
  },
  {
   "cell_type": "markdown",
   "metadata": {},
   "source": [
    "# Alley"
   ]
  },
  {
   "cell_type": "code",
   "execution_count": 7,
   "metadata": {},
   "outputs": [
    {
     "data": {
      "text/html": [
       "<div>\n",
       "<style scoped>\n",
       "    .dataframe tbody tr th:only-of-type {\n",
       "        vertical-align: middle;\n",
       "    }\n",
       "\n",
       "    .dataframe tbody tr th {\n",
       "        vertical-align: top;\n",
       "    }\n",
       "\n",
       "    .dataframe thead th {\n",
       "        text-align: right;\n",
       "    }\n",
       "</style>\n",
       "<table border=\"1\" class=\"dataframe\">\n",
       "  <thead>\n",
       "    <tr style=\"text-align: right;\">\n",
       "      <th></th>\n",
       "      <th>Alley</th>\n",
       "    </tr>\n",
       "  </thead>\n",
       "  <tbody>\n",
       "    <tr>\n",
       "      <th>0</th>\n",
       "      <td>0</td>\n",
       "    </tr>\n",
       "    <tr>\n",
       "      <th>1</th>\n",
       "      <td>0</td>\n",
       "    </tr>\n",
       "    <tr>\n",
       "      <th>2</th>\n",
       "      <td>0</td>\n",
       "    </tr>\n",
       "    <tr>\n",
       "      <th>3</th>\n",
       "      <td>0</td>\n",
       "    </tr>\n",
       "    <tr>\n",
       "      <th>4</th>\n",
       "      <td>0</td>\n",
       "    </tr>\n",
       "  </tbody>\n",
       "</table>\n",
       "</div>"
      ],
      "text/plain": [
       "  Alley\n",
       "0     0\n",
       "1     0\n",
       "2     0\n",
       "3     0\n",
       "4     0"
      ]
     },
     "execution_count": 7,
     "metadata": {},
     "output_type": "execute_result"
    }
   ],
   "source": [
    "combo.loc[combo['Alley']=='Pave', 'Alley'] = 2\n",
    "combo.loc[combo['Alley']=='Grvl', 'Alley'] = 1\n",
    "combo.loc[combo['Alley']=='None', 'Alley'] = 0\n",
    "\n",
    "combo[['Alley']].head()"
   ]
  },
  {
   "cell_type": "markdown",
   "metadata": {},
   "source": [
    "# Utilites"
   ]
  },
  {
   "cell_type": "code",
   "execution_count": 8,
   "metadata": {
    "scrolled": true
   },
   "outputs": [
    {
     "data": {
      "text/html": [
       "<div>\n",
       "<style scoped>\n",
       "    .dataframe tbody tr th:only-of-type {\n",
       "        vertical-align: middle;\n",
       "    }\n",
       "\n",
       "    .dataframe tbody tr th {\n",
       "        vertical-align: top;\n",
       "    }\n",
       "\n",
       "    .dataframe thead th {\n",
       "        text-align: right;\n",
       "    }\n",
       "</style>\n",
       "<table border=\"1\" class=\"dataframe\">\n",
       "  <thead>\n",
       "    <tr style=\"text-align: right;\">\n",
       "      <th></th>\n",
       "      <th>Utilities</th>\n",
       "    </tr>\n",
       "  </thead>\n",
       "  <tbody>\n",
       "    <tr>\n",
       "      <th>0</th>\n",
       "      <td>3</td>\n",
       "    </tr>\n",
       "    <tr>\n",
       "      <th>1</th>\n",
       "      <td>3</td>\n",
       "    </tr>\n",
       "    <tr>\n",
       "      <th>2</th>\n",
       "      <td>3</td>\n",
       "    </tr>\n",
       "    <tr>\n",
       "      <th>3</th>\n",
       "      <td>3</td>\n",
       "    </tr>\n",
       "    <tr>\n",
       "      <th>4</th>\n",
       "      <td>3</td>\n",
       "    </tr>\n",
       "  </tbody>\n",
       "</table>\n",
       "</div>"
      ],
      "text/plain": [
       "  Utilities\n",
       "0         3\n",
       "1         3\n",
       "2         3\n",
       "3         3\n",
       "4         3"
      ]
     },
     "execution_count": 8,
     "metadata": {},
     "output_type": "execute_result"
    }
   ],
   "source": [
    "combo.loc[combo['Utilities']=='AllPub', 'Utilities'] = 3\n",
    "combo.loc[combo['Utilities']=='NoSewr', 'Utilities'] = 2\n",
    "combo.loc[combo['Utilities']=='NoSeWa', 'Utilities'] = 1\n",
    "combo.loc[combo['Utilities']=='ELO', 'Utilities'] = 0\n",
    "\n",
    "combo[['Utilities']].head()"
   ]
  },
  {
   "cell_type": "markdown",
   "metadata": {},
   "source": [
    "# Central Air"
   ]
  },
  {
   "cell_type": "code",
   "execution_count": 9,
   "metadata": {
    "scrolled": true
   },
   "outputs": [
    {
     "data": {
      "text/html": [
       "<div>\n",
       "<style scoped>\n",
       "    .dataframe tbody tr th:only-of-type {\n",
       "        vertical-align: middle;\n",
       "    }\n",
       "\n",
       "    .dataframe tbody tr th {\n",
       "        vertical-align: top;\n",
       "    }\n",
       "\n",
       "    .dataframe thead th {\n",
       "        text-align: right;\n",
       "    }\n",
       "</style>\n",
       "<table border=\"1\" class=\"dataframe\">\n",
       "  <thead>\n",
       "    <tr style=\"text-align: right;\">\n",
       "      <th></th>\n",
       "      <th>CentralAir</th>\n",
       "    </tr>\n",
       "  </thead>\n",
       "  <tbody>\n",
       "    <tr>\n",
       "      <th>0</th>\n",
       "      <td>1</td>\n",
       "    </tr>\n",
       "    <tr>\n",
       "      <th>1</th>\n",
       "      <td>1</td>\n",
       "    </tr>\n",
       "    <tr>\n",
       "      <th>2</th>\n",
       "      <td>1</td>\n",
       "    </tr>\n",
       "    <tr>\n",
       "      <th>3</th>\n",
       "      <td>1</td>\n",
       "    </tr>\n",
       "    <tr>\n",
       "      <th>4</th>\n",
       "      <td>1</td>\n",
       "    </tr>\n",
       "  </tbody>\n",
       "</table>\n",
       "</div>"
      ],
      "text/plain": [
       "  CentralAir\n",
       "0          1\n",
       "1          1\n",
       "2          1\n",
       "3          1\n",
       "4          1"
      ]
     },
     "execution_count": 9,
     "metadata": {},
     "output_type": "execute_result"
    }
   ],
   "source": [
    "combo.loc[combo['CentralAir']=='Y', 'CentralAir'] = 1\n",
    "combo.loc[combo['CentralAir']=='N', 'CentralAir'] = 0\n",
    "\n",
    "combo[['CentralAir']].head()"
   ]
  },
  {
   "cell_type": "markdown",
   "metadata": {},
   "source": [
    "# PavedDrive"
   ]
  },
  {
   "cell_type": "code",
   "execution_count": 10,
   "metadata": {
    "scrolled": true
   },
   "outputs": [
    {
     "data": {
      "text/html": [
       "<div>\n",
       "<style scoped>\n",
       "    .dataframe tbody tr th:only-of-type {\n",
       "        vertical-align: middle;\n",
       "    }\n",
       "\n",
       "    .dataframe tbody tr th {\n",
       "        vertical-align: top;\n",
       "    }\n",
       "\n",
       "    .dataframe thead th {\n",
       "        text-align: right;\n",
       "    }\n",
       "</style>\n",
       "<table border=\"1\" class=\"dataframe\">\n",
       "  <thead>\n",
       "    <tr style=\"text-align: right;\">\n",
       "      <th></th>\n",
       "      <th>PavedDrive</th>\n",
       "    </tr>\n",
       "  </thead>\n",
       "  <tbody>\n",
       "    <tr>\n",
       "      <th>0</th>\n",
       "      <td>3</td>\n",
       "    </tr>\n",
       "    <tr>\n",
       "      <th>1</th>\n",
       "      <td>3</td>\n",
       "    </tr>\n",
       "    <tr>\n",
       "      <th>2</th>\n",
       "      <td>3</td>\n",
       "    </tr>\n",
       "    <tr>\n",
       "      <th>3</th>\n",
       "      <td>3</td>\n",
       "    </tr>\n",
       "    <tr>\n",
       "      <th>4</th>\n",
       "      <td>3</td>\n",
       "    </tr>\n",
       "  </tbody>\n",
       "</table>\n",
       "</div>"
      ],
      "text/plain": [
       "  PavedDrive\n",
       "0          3\n",
       "1          3\n",
       "2          3\n",
       "3          3\n",
       "4          3"
      ]
     },
     "execution_count": 10,
     "metadata": {},
     "output_type": "execute_result"
    }
   ],
   "source": [
    "# change to ranked feature\n",
    "rank = ['Y', 'P', 'N']\n",
    "\n",
    "for i, r in enumerate(rank):\n",
    "    combo.loc[combo['PavedDrive']==r, 'PavedDrive'] = len(rank)-i\n",
    "        \n",
    "combo[['PavedDrive']].head()"
   ]
  },
  {
   "cell_type": "markdown",
   "metadata": {},
   "source": [
    "# PoolQC"
   ]
  },
  {
   "cell_type": "code",
   "execution_count": 11,
   "metadata": {},
   "outputs": [
    {
     "data": {
      "text/html": [
       "<div>\n",
       "<style scoped>\n",
       "    .dataframe tbody tr th:only-of-type {\n",
       "        vertical-align: middle;\n",
       "    }\n",
       "\n",
       "    .dataframe tbody tr th {\n",
       "        vertical-align: top;\n",
       "    }\n",
       "\n",
       "    .dataframe thead th {\n",
       "        text-align: right;\n",
       "    }\n",
       "</style>\n",
       "<table border=\"1\" class=\"dataframe\">\n",
       "  <thead>\n",
       "    <tr style=\"text-align: right;\">\n",
       "      <th></th>\n",
       "      <th>PoolQC</th>\n",
       "    </tr>\n",
       "  </thead>\n",
       "  <tbody>\n",
       "    <tr>\n",
       "      <th>0</th>\n",
       "      <td>0</td>\n",
       "    </tr>\n",
       "    <tr>\n",
       "      <th>1</th>\n",
       "      <td>0</td>\n",
       "    </tr>\n",
       "    <tr>\n",
       "      <th>2</th>\n",
       "      <td>0</td>\n",
       "    </tr>\n",
       "    <tr>\n",
       "      <th>3</th>\n",
       "      <td>0</td>\n",
       "    </tr>\n",
       "    <tr>\n",
       "      <th>4</th>\n",
       "      <td>0</td>\n",
       "    </tr>\n",
       "  </tbody>\n",
       "</table>\n",
       "</div>"
      ],
      "text/plain": [
       "  PoolQC\n",
       "0      0\n",
       "1      0\n",
       "2      0\n",
       "3      0\n",
       "4      0"
      ]
     },
     "execution_count": 11,
     "metadata": {},
     "output_type": "execute_result"
    }
   ],
   "source": [
    "# change to ranked feature\n",
    "rank = ['Ex', 'Gd', 'TA', 'Fa', 'None']\n",
    "\n",
    "for i, r in enumerate(rank):\n",
    "    combo.loc[combo['PoolQC']==r, 'PoolQC'] = len(rank)-(i+1)\n",
    "        \n",
    "combo[['PoolQC']].head()"
   ]
  },
  {
   "cell_type": "markdown",
   "metadata": {},
   "source": [
    "# Fence"
   ]
  },
  {
   "cell_type": "code",
   "execution_count": 12,
   "metadata": {},
   "outputs": [
    {
     "data": {
      "text/html": [
       "<div>\n",
       "<style scoped>\n",
       "    .dataframe tbody tr th:only-of-type {\n",
       "        vertical-align: middle;\n",
       "    }\n",
       "\n",
       "    .dataframe tbody tr th {\n",
       "        vertical-align: top;\n",
       "    }\n",
       "\n",
       "    .dataframe thead th {\n",
       "        text-align: right;\n",
       "    }\n",
       "</style>\n",
       "<table border=\"1\" class=\"dataframe\">\n",
       "  <thead>\n",
       "    <tr style=\"text-align: right;\">\n",
       "      <th></th>\n",
       "      <th>Fence</th>\n",
       "    </tr>\n",
       "  </thead>\n",
       "  <tbody>\n",
       "    <tr>\n",
       "      <th>0</th>\n",
       "      <td>0</td>\n",
       "    </tr>\n",
       "    <tr>\n",
       "      <th>1</th>\n",
       "      <td>0</td>\n",
       "    </tr>\n",
       "    <tr>\n",
       "      <th>2</th>\n",
       "      <td>0</td>\n",
       "    </tr>\n",
       "    <tr>\n",
       "      <th>3</th>\n",
       "      <td>0</td>\n",
       "    </tr>\n",
       "    <tr>\n",
       "      <th>4</th>\n",
       "      <td>0</td>\n",
       "    </tr>\n",
       "  </tbody>\n",
       "</table>\n",
       "</div>"
      ],
      "text/plain": [
       "  Fence\n",
       "0     0\n",
       "1     0\n",
       "2     0\n",
       "3     0\n",
       "4     0"
      ]
     },
     "execution_count": 12,
     "metadata": {},
     "output_type": "execute_result"
    }
   ],
   "source": [
    "# change to ranked feature\n",
    "rank = ['GdPrv', 'GdWo', 'MnPrv', 'MnWw', 'None']\n",
    "\n",
    "for i, r in enumerate(rank):\n",
    "    combo.loc[combo['Fence']==r, 'Fence'] = len(rank)-(i+1)\n",
    "        \n",
    "combo[['Fence']].head()"
   ]
  },
  {
   "cell_type": "markdown",
   "metadata": {},
   "source": [
    "# 'ExterQual',  'ExterCond', 'HeatingQC',  'KitchenQual'"
   ]
  },
  {
   "cell_type": "code",
   "execution_count": 13,
   "metadata": {
    "scrolled": true
   },
   "outputs": [
    {
     "data": {
      "text/html": [
       "<div>\n",
       "<style scoped>\n",
       "    .dataframe tbody tr th:only-of-type {\n",
       "        vertical-align: middle;\n",
       "    }\n",
       "\n",
       "    .dataframe tbody tr th {\n",
       "        vertical-align: top;\n",
       "    }\n",
       "\n",
       "    .dataframe thead th {\n",
       "        text-align: right;\n",
       "    }\n",
       "</style>\n",
       "<table border=\"1\" class=\"dataframe\">\n",
       "  <thead>\n",
       "    <tr style=\"text-align: right;\">\n",
       "      <th></th>\n",
       "      <th>ExterQual</th>\n",
       "      <th>ExterCond</th>\n",
       "      <th>HeatingQC</th>\n",
       "      <th>KitchenQual</th>\n",
       "    </tr>\n",
       "  </thead>\n",
       "  <tbody>\n",
       "    <tr>\n",
       "      <th>0</th>\n",
       "      <td>4</td>\n",
       "      <td>3</td>\n",
       "      <td>5</td>\n",
       "      <td>4</td>\n",
       "    </tr>\n",
       "    <tr>\n",
       "      <th>1</th>\n",
       "      <td>3</td>\n",
       "      <td>3</td>\n",
       "      <td>5</td>\n",
       "      <td>3</td>\n",
       "    </tr>\n",
       "    <tr>\n",
       "      <th>2</th>\n",
       "      <td>4</td>\n",
       "      <td>3</td>\n",
       "      <td>5</td>\n",
       "      <td>4</td>\n",
       "    </tr>\n",
       "    <tr>\n",
       "      <th>3</th>\n",
       "      <td>3</td>\n",
       "      <td>3</td>\n",
       "      <td>4</td>\n",
       "      <td>4</td>\n",
       "    </tr>\n",
       "    <tr>\n",
       "      <th>4</th>\n",
       "      <td>4</td>\n",
       "      <td>3</td>\n",
       "      <td>5</td>\n",
       "      <td>4</td>\n",
       "    </tr>\n",
       "  </tbody>\n",
       "</table>\n",
       "</div>"
      ],
      "text/plain": [
       "  ExterQual ExterCond HeatingQC KitchenQual\n",
       "0         4         3         5           4\n",
       "1         3         3         5           3\n",
       "2         4         3         5           4\n",
       "3         3         3         4           4\n",
       "4         4         3         5           4"
      ]
     },
     "execution_count": 13,
     "metadata": {},
     "output_type": "execute_result"
    }
   ],
   "source": [
    "# change to ranked feature\n",
    "rank = ['Ex', 'Gd', 'TA', 'Fa', 'Po']\n",
    "\n",
    "for i, r in enumerate(rank):\n",
    "    combo.loc[combo['ExterQual']==r, 'ExterQual'] = len(rank)-i\n",
    "    combo.loc[combo['ExterCond']==r, 'ExterCond'] = len(rank)-i\n",
    "    combo.loc[combo['HeatingQC']==r, 'HeatingQC'] = len(rank)-i\n",
    "    combo.loc[combo['KitchenQual']==r, 'KitchenQual'] = len(rank)-i\n",
    "    \n",
    "        \n",
    "combo[['ExterQual', 'ExterCond', 'HeatingQC', 'KitchenQual']].head()"
   ]
  },
  {
   "cell_type": "markdown",
   "metadata": {},
   "source": [
    "# 'BsmtQual',  'BsmtCond',  'GarageQual',  'GarageCond'"
   ]
  },
  {
   "cell_type": "code",
   "execution_count": 14,
   "metadata": {
    "scrolled": true
   },
   "outputs": [
    {
     "data": {
      "text/html": [
       "<div>\n",
       "<style scoped>\n",
       "    .dataframe tbody tr th:only-of-type {\n",
       "        vertical-align: middle;\n",
       "    }\n",
       "\n",
       "    .dataframe tbody tr th {\n",
       "        vertical-align: top;\n",
       "    }\n",
       "\n",
       "    .dataframe thead th {\n",
       "        text-align: right;\n",
       "    }\n",
       "</style>\n",
       "<table border=\"1\" class=\"dataframe\">\n",
       "  <thead>\n",
       "    <tr style=\"text-align: right;\">\n",
       "      <th></th>\n",
       "      <th>BsmtQual</th>\n",
       "      <th>BsmtCond</th>\n",
       "      <th>GarageQual</th>\n",
       "      <th>GarageCond</th>\n",
       "    </tr>\n",
       "  </thead>\n",
       "  <tbody>\n",
       "    <tr>\n",
       "      <th>0</th>\n",
       "      <td>4</td>\n",
       "      <td>3</td>\n",
       "      <td>3</td>\n",
       "      <td>3</td>\n",
       "    </tr>\n",
       "    <tr>\n",
       "      <th>1</th>\n",
       "      <td>4</td>\n",
       "      <td>3</td>\n",
       "      <td>3</td>\n",
       "      <td>3</td>\n",
       "    </tr>\n",
       "    <tr>\n",
       "      <th>2</th>\n",
       "      <td>4</td>\n",
       "      <td>3</td>\n",
       "      <td>3</td>\n",
       "      <td>3</td>\n",
       "    </tr>\n",
       "    <tr>\n",
       "      <th>3</th>\n",
       "      <td>3</td>\n",
       "      <td>4</td>\n",
       "      <td>3</td>\n",
       "      <td>3</td>\n",
       "    </tr>\n",
       "    <tr>\n",
       "      <th>4</th>\n",
       "      <td>4</td>\n",
       "      <td>3</td>\n",
       "      <td>3</td>\n",
       "      <td>3</td>\n",
       "    </tr>\n",
       "  </tbody>\n",
       "</table>\n",
       "</div>"
      ],
      "text/plain": [
       "  BsmtQual BsmtCond GarageQual GarageCond\n",
       "0        4        3          3          3\n",
       "1        4        3          3          3\n",
       "2        4        3          3          3\n",
       "3        3        4          3          3\n",
       "4        4        3          3          3"
      ]
     },
     "execution_count": 14,
     "metadata": {},
     "output_type": "execute_result"
    }
   ],
   "source": [
    "# change to ranked feature\n",
    "rank = ['Ex', 'Gd', 'TA', 'Fa', 'Po', 'None']\n",
    "\n",
    "for i, r in enumerate(rank):\n",
    "    combo.loc[combo['BsmtQual']==r, 'BsmtQual'] = len(rank)-(i+1)\n",
    "    combo.loc[combo['BsmtCond']==r, 'BsmtCond'] = len(rank)-(i+1)\n",
    "    combo.loc[combo['GarageQual']==r, 'GarageQual'] = len(rank)-(i+1)\n",
    "    combo.loc[combo['GarageCond']==r, 'GarageCond'] = len(rank)-(i+1)\n",
    "        \n",
    "combo[['BsmtQual', 'BsmtCond', 'GarageQual', 'GarageCond']].head()"
   ]
  },
  {
   "cell_type": "code",
   "execution_count": 15,
   "metadata": {},
   "outputs": [
    {
     "data": {
      "text/html": [
       "<div>\n",
       "<style scoped>\n",
       "    .dataframe tbody tr th:only-of-type {\n",
       "        vertical-align: middle;\n",
       "    }\n",
       "\n",
       "    .dataframe tbody tr th {\n",
       "        vertical-align: top;\n",
       "    }\n",
       "\n",
       "    .dataframe thead th {\n",
       "        text-align: right;\n",
       "    }\n",
       "</style>\n",
       "<table border=\"1\" class=\"dataframe\">\n",
       "  <thead>\n",
       "    <tr style=\"text-align: right;\">\n",
       "      <th></th>\n",
       "      <th>BsmtQual</th>\n",
       "      <th>BsmtCond</th>\n",
       "      <th>GarageQual</th>\n",
       "      <th>GarageCond</th>\n",
       "    </tr>\n",
       "  </thead>\n",
       "  <tbody>\n",
       "    <tr>\n",
       "      <th>0</th>\n",
       "      <td>4</td>\n",
       "      <td>3</td>\n",
       "      <td>3</td>\n",
       "      <td>3</td>\n",
       "    </tr>\n",
       "    <tr>\n",
       "      <th>1</th>\n",
       "      <td>4</td>\n",
       "      <td>3</td>\n",
       "      <td>3</td>\n",
       "      <td>3</td>\n",
       "    </tr>\n",
       "    <tr>\n",
       "      <th>2</th>\n",
       "      <td>4</td>\n",
       "      <td>3</td>\n",
       "      <td>3</td>\n",
       "      <td>3</td>\n",
       "    </tr>\n",
       "    <tr>\n",
       "      <th>3</th>\n",
       "      <td>3</td>\n",
       "      <td>4</td>\n",
       "      <td>3</td>\n",
       "      <td>3</td>\n",
       "    </tr>\n",
       "    <tr>\n",
       "      <th>4</th>\n",
       "      <td>4</td>\n",
       "      <td>3</td>\n",
       "      <td>3</td>\n",
       "      <td>3</td>\n",
       "    </tr>\n",
       "  </tbody>\n",
       "</table>\n",
       "</div>"
      ],
      "text/plain": [
       "  BsmtQual BsmtCond GarageQual GarageCond\n",
       "0        4        3          3          3\n",
       "1        4        3          3          3\n",
       "2        4        3          3          3\n",
       "3        3        4          3          3\n",
       "4        4        3          3          3"
      ]
     },
     "execution_count": 15,
     "metadata": {},
     "output_type": "execute_result"
    }
   ],
   "source": [
    "# change to ranked feature\n",
    "rank = ['Ex', 'Gd', 'TA', 'Fa', 'Po', 'None']\n",
    "\n",
    "for i, r in enumerate(rank):\n",
    "    combo.loc[combo['BsmtQual']==r, 'BsmtQual'] = len(rank)-(i+1)\n",
    "    combo.loc[combo['BsmtCond']==r, 'BsmtCond'] = len(rank)-(i+1)\n",
    "    combo.loc[combo['GarageQual']==r, 'GarageQual'] = len(rank)-(i+1)\n",
    "    combo.loc[combo['GarageCond']==r, 'GarageCond'] = len(rank)-(i+1)\n",
    "        \n",
    "combo[['BsmtQual', 'BsmtCond', 'GarageQual', 'GarageCond']].head()"
   ]
  },
  {
   "cell_type": "markdown",
   "metadata": {},
   "source": [
    "# 'BsmtExposure'"
   ]
  },
  {
   "cell_type": "code",
   "execution_count": 16,
   "metadata": {
    "scrolled": true
   },
   "outputs": [
    {
     "data": {
      "text/html": [
       "<div>\n",
       "<style scoped>\n",
       "    .dataframe tbody tr th:only-of-type {\n",
       "        vertical-align: middle;\n",
       "    }\n",
       "\n",
       "    .dataframe tbody tr th {\n",
       "        vertical-align: top;\n",
       "    }\n",
       "\n",
       "    .dataframe thead th {\n",
       "        text-align: right;\n",
       "    }\n",
       "</style>\n",
       "<table border=\"1\" class=\"dataframe\">\n",
       "  <thead>\n",
       "    <tr style=\"text-align: right;\">\n",
       "      <th></th>\n",
       "      <th>BsmtExposure</th>\n",
       "    </tr>\n",
       "  </thead>\n",
       "  <tbody>\n",
       "    <tr>\n",
       "      <th>0</th>\n",
       "      <td>1</td>\n",
       "    </tr>\n",
       "    <tr>\n",
       "      <th>1</th>\n",
       "      <td>4</td>\n",
       "    </tr>\n",
       "    <tr>\n",
       "      <th>2</th>\n",
       "      <td>2</td>\n",
       "    </tr>\n",
       "    <tr>\n",
       "      <th>3</th>\n",
       "      <td>1</td>\n",
       "    </tr>\n",
       "    <tr>\n",
       "      <th>4</th>\n",
       "      <td>3</td>\n",
       "    </tr>\n",
       "  </tbody>\n",
       "</table>\n",
       "</div>"
      ],
      "text/plain": [
       "  BsmtExposure\n",
       "0            1\n",
       "1            4\n",
       "2            2\n",
       "3            1\n",
       "4            3"
      ]
     },
     "execution_count": 16,
     "metadata": {},
     "output_type": "execute_result"
    }
   ],
   "source": [
    "# change to ranked feature\n",
    "rank = ['Gd', 'Av', 'Mn', 'No', 'None']\n",
    "\n",
    "for i, r in enumerate(rank):\n",
    "    combo.loc[combo['BsmtExposure']==r, 'BsmtExposure'] = len(rank)-(i+1)\n",
    "        \n",
    "combo[['BsmtExposure']].head()"
   ]
  },
  {
   "cell_type": "markdown",
   "metadata": {},
   "source": [
    "# 'BsmtFinType1',  'BsmtFinType2'"
   ]
  },
  {
   "cell_type": "code",
   "execution_count": 17,
   "metadata": {
    "scrolled": false
   },
   "outputs": [
    {
     "data": {
      "text/html": [
       "<div>\n",
       "<style scoped>\n",
       "    .dataframe tbody tr th:only-of-type {\n",
       "        vertical-align: middle;\n",
       "    }\n",
       "\n",
       "    .dataframe tbody tr th {\n",
       "        vertical-align: top;\n",
       "    }\n",
       "\n",
       "    .dataframe thead th {\n",
       "        text-align: right;\n",
       "    }\n",
       "</style>\n",
       "<table border=\"1\" class=\"dataframe\">\n",
       "  <thead>\n",
       "    <tr style=\"text-align: right;\">\n",
       "      <th></th>\n",
       "      <th>BsmtFinType1</th>\n",
       "      <th>BsmtFinType2</th>\n",
       "    </tr>\n",
       "  </thead>\n",
       "  <tbody>\n",
       "    <tr>\n",
       "      <th>0</th>\n",
       "      <td>6</td>\n",
       "      <td>1</td>\n",
       "    </tr>\n",
       "    <tr>\n",
       "      <th>1</th>\n",
       "      <td>5</td>\n",
       "      <td>1</td>\n",
       "    </tr>\n",
       "    <tr>\n",
       "      <th>2</th>\n",
       "      <td>6</td>\n",
       "      <td>1</td>\n",
       "    </tr>\n",
       "    <tr>\n",
       "      <th>3</th>\n",
       "      <td>5</td>\n",
       "      <td>1</td>\n",
       "    </tr>\n",
       "    <tr>\n",
       "      <th>4</th>\n",
       "      <td>6</td>\n",
       "      <td>1</td>\n",
       "    </tr>\n",
       "  </tbody>\n",
       "</table>\n",
       "</div>"
      ],
      "text/plain": [
       "  BsmtFinType1 BsmtFinType2\n",
       "0            6            1\n",
       "1            5            1\n",
       "2            6            1\n",
       "3            5            1\n",
       "4            6            1"
      ]
     },
     "execution_count": 17,
     "metadata": {},
     "output_type": "execute_result"
    }
   ],
   "source": [
    "# change to ranked feature\n",
    "rank = ['GLQ', 'ALQ', 'BLQ', 'Rec', 'LwQ', 'Unf', 'None']\n",
    "\n",
    "for i, r in enumerate(rank):\n",
    "    combo.loc[combo['BsmtFinType1']==r, 'BsmtFinType1'] = len(rank)-(i+1)\n",
    "    combo.loc[combo['BsmtFinType2']==r, 'BsmtFinType2'] = len(rank)-(i+1)\n",
    "        \n",
    "combo[['BsmtFinType1', 'BsmtFinType2']].head()"
   ]
  },
  {
   "cell_type": "markdown",
   "metadata": {},
   "source": [
    "# 'Electrical'"
   ]
  },
  {
   "cell_type": "code",
   "execution_count": 18,
   "metadata": {
    "scrolled": true
   },
   "outputs": [
    {
     "data": {
      "text/plain": [
       "398    IDOTRR\n",
       "Name: Neighborhood, dtype: object"
      ]
     },
     "execution_count": 18,
     "metadata": {},
     "output_type": "execute_result"
    }
   ],
   "source": [
    "combo[combo['Electrical']=='Mix']['Neighborhood']"
   ]
  },
  {
   "cell_type": "code",
   "execution_count": 19,
   "metadata": {},
   "outputs": [
    {
     "data": {
      "text/html": [
       "<div>\n",
       "<style scoped>\n",
       "    .dataframe tbody tr th:only-of-type {\n",
       "        vertical-align: middle;\n",
       "    }\n",
       "\n",
       "    .dataframe tbody tr th {\n",
       "        vertical-align: top;\n",
       "    }\n",
       "\n",
       "    .dataframe thead th {\n",
       "        text-align: right;\n",
       "    }\n",
       "</style>\n",
       "<table border=\"1\" class=\"dataframe\">\n",
       "  <thead>\n",
       "    <tr style=\"text-align: right;\">\n",
       "      <th></th>\n",
       "      <th>Type</th>\n",
       "      <th>Count</th>\n",
       "    </tr>\n",
       "  </thead>\n",
       "  <tbody>\n",
       "    <tr>\n",
       "      <th>0</th>\n",
       "      <td>SBrkr</td>\n",
       "      <td>60</td>\n",
       "    </tr>\n",
       "    <tr>\n",
       "      <th>1</th>\n",
       "      <td>FuseA</td>\n",
       "      <td>22</td>\n",
       "    </tr>\n",
       "    <tr>\n",
       "      <th>2</th>\n",
       "      <td>FuseF</td>\n",
       "      <td>8</td>\n",
       "    </tr>\n",
       "    <tr>\n",
       "      <th>3</th>\n",
       "      <td>FuseP</td>\n",
       "      <td>2</td>\n",
       "    </tr>\n",
       "    <tr>\n",
       "      <th>4</th>\n",
       "      <td>Mix</td>\n",
       "      <td>1</td>\n",
       "    </tr>\n",
       "  </tbody>\n",
       "</table>\n",
       "</div>"
      ],
      "text/plain": [
       "    Type  Count\n",
       "0  SBrkr     60\n",
       "1  FuseA     22\n",
       "2  FuseF      8\n",
       "3  FuseP      2\n",
       "4    Mix      1"
      ]
     },
     "execution_count": 19,
     "metadata": {},
     "output_type": "execute_result"
    }
   ],
   "source": [
    "combo_elec = pd.DataFrame(combo[combo['Neighborhood']=='IDOTRR']\\\n",
    "                          ['Electrical'].value_counts()).reset_index()\n",
    "combo_elec.columns = ['Type', 'Count']\n",
    "combo_elec"
   ]
  },
  {
   "cell_type": "code",
   "execution_count": 20,
   "metadata": {
    "scrolled": true
   },
   "outputs": [
    {
     "data": {
      "text/plain": [
       "array([5, 3, 4, 2, 1], dtype=object)"
      ]
     },
     "execution_count": 20,
     "metadata": {},
     "output_type": "execute_result"
    }
   ],
   "source": [
    "# change to ranked feature\n",
    "rank = ['SBrkr', 'FuseA', 'FuseF', 'FuseP', 'Mix']\n",
    "\n",
    "for i, r in enumerate(rank):\n",
    "    combo.loc[combo['Electrical']==r, 'Electrical'] = len(rank)-i\n",
    "        \n",
    "combo['Electrical'].unique()"
   ]
  },
  {
   "cell_type": "markdown",
   "metadata": {},
   "source": [
    "# 'Functional'"
   ]
  },
  {
   "cell_type": "code",
   "execution_count": 21,
   "metadata": {},
   "outputs": [
    {
     "data": {
      "text/html": [
       "<div>\n",
       "<style scoped>\n",
       "    .dataframe tbody tr th:only-of-type {\n",
       "        vertical-align: middle;\n",
       "    }\n",
       "\n",
       "    .dataframe tbody tr th {\n",
       "        vertical-align: top;\n",
       "    }\n",
       "\n",
       "    .dataframe thead th {\n",
       "        text-align: right;\n",
       "    }\n",
       "</style>\n",
       "<table border=\"1\" class=\"dataframe\">\n",
       "  <thead>\n",
       "    <tr style=\"text-align: right;\">\n",
       "      <th></th>\n",
       "      <th>Functional</th>\n",
       "    </tr>\n",
       "  </thead>\n",
       "  <tbody>\n",
       "    <tr>\n",
       "      <th>0</th>\n",
       "      <td>7</td>\n",
       "    </tr>\n",
       "    <tr>\n",
       "      <th>1</th>\n",
       "      <td>7</td>\n",
       "    </tr>\n",
       "    <tr>\n",
       "      <th>2</th>\n",
       "      <td>7</td>\n",
       "    </tr>\n",
       "    <tr>\n",
       "      <th>3</th>\n",
       "      <td>7</td>\n",
       "    </tr>\n",
       "    <tr>\n",
       "      <th>4</th>\n",
       "      <td>7</td>\n",
       "    </tr>\n",
       "  </tbody>\n",
       "</table>\n",
       "</div>"
      ],
      "text/plain": [
       "  Functional\n",
       "0          7\n",
       "1          7\n",
       "2          7\n",
       "3          7\n",
       "4          7"
      ]
     },
     "execution_count": 21,
     "metadata": {},
     "output_type": "execute_result"
    }
   ],
   "source": [
    "# change to ranked feature\n",
    "rank = ['Typ', 'Min1', 'Min2','Mod', 'Maj1', 'Maj2', 'Sev', 'Sal']\n",
    "\n",
    "for i, r in enumerate(rank):\n",
    "    combo.loc[combo['Functional']==r, 'Functional'] = len(rank)-(i+1)\n",
    "        \n",
    "combo[['Functional']].head()"
   ]
  },
  {
   "cell_type": "markdown",
   "metadata": {},
   "source": [
    "# 'GarageFinish'"
   ]
  },
  {
   "cell_type": "code",
   "execution_count": 22,
   "metadata": {
    "scrolled": true
   },
   "outputs": [
    {
     "data": {
      "text/html": [
       "<div>\n",
       "<style scoped>\n",
       "    .dataframe tbody tr th:only-of-type {\n",
       "        vertical-align: middle;\n",
       "    }\n",
       "\n",
       "    .dataframe tbody tr th {\n",
       "        vertical-align: top;\n",
       "    }\n",
       "\n",
       "    .dataframe thead th {\n",
       "        text-align: right;\n",
       "    }\n",
       "</style>\n",
       "<table border=\"1\" class=\"dataframe\">\n",
       "  <thead>\n",
       "    <tr style=\"text-align: right;\">\n",
       "      <th></th>\n",
       "      <th>GarageFinish</th>\n",
       "    </tr>\n",
       "  </thead>\n",
       "  <tbody>\n",
       "    <tr>\n",
       "      <th>0</th>\n",
       "      <td>2</td>\n",
       "    </tr>\n",
       "    <tr>\n",
       "      <th>1</th>\n",
       "      <td>2</td>\n",
       "    </tr>\n",
       "    <tr>\n",
       "      <th>2</th>\n",
       "      <td>2</td>\n",
       "    </tr>\n",
       "    <tr>\n",
       "      <th>3</th>\n",
       "      <td>1</td>\n",
       "    </tr>\n",
       "    <tr>\n",
       "      <th>4</th>\n",
       "      <td>2</td>\n",
       "    </tr>\n",
       "  </tbody>\n",
       "</table>\n",
       "</div>"
      ],
      "text/plain": [
       "  GarageFinish\n",
       "0            2\n",
       "1            2\n",
       "2            2\n",
       "3            1\n",
       "4            2"
      ]
     },
     "execution_count": 22,
     "metadata": {},
     "output_type": "execute_result"
    }
   ],
   "source": [
    "# change to ranked feature\n",
    "rank = ['Fin', 'RFn', 'Unf', 'None']\n",
    "\n",
    "for i, r in enumerate(rank):\n",
    "    combo.loc[combo['GarageFinish']==r, 'GarageFinish'] = len(rank)-(i+1)\n",
    "        \n",
    "combo[['GarageFinish']].head()"
   ]
  },
  {
   "cell_type": "markdown",
   "metadata": {},
   "source": [
    "# Editing Values"
   ]
  },
  {
   "cell_type": "code",
   "execution_count": 23,
   "metadata": {},
   "outputs": [
    {
     "data": {
      "text/html": [
       "<div>\n",
       "<style scoped>\n",
       "    .dataframe tbody tr th:only-of-type {\n",
       "        vertical-align: middle;\n",
       "    }\n",
       "\n",
       "    .dataframe tbody tr th {\n",
       "        vertical-align: top;\n",
       "    }\n",
       "\n",
       "    .dataframe thead th {\n",
       "        text-align: right;\n",
       "    }\n",
       "</style>\n",
       "<table border=\"1\" class=\"dataframe\">\n",
       "  <thead>\n",
       "    <tr style=\"text-align: right;\">\n",
       "      <th></th>\n",
       "      <th>MSSubClass</th>\n",
       "    </tr>\n",
       "  </thead>\n",
       "  <tbody>\n",
       "    <tr>\n",
       "      <th>0</th>\n",
       "      <td>2-STORY 1946 &amp; NEWER</td>\n",
       "    </tr>\n",
       "    <tr>\n",
       "      <th>1</th>\n",
       "      <td>1-STORY 1946 &amp; NEWER ALL STYLES</td>\n",
       "    </tr>\n",
       "    <tr>\n",
       "      <th>2</th>\n",
       "      <td>2-STORY 1946 &amp; NEWER</td>\n",
       "    </tr>\n",
       "    <tr>\n",
       "      <th>3</th>\n",
       "      <td>2-STORY 1945 &amp; OLDER</td>\n",
       "    </tr>\n",
       "    <tr>\n",
       "      <th>4</th>\n",
       "      <td>2-STORY 1946 &amp; NEWER</td>\n",
       "    </tr>\n",
       "  </tbody>\n",
       "</table>\n",
       "</div>"
      ],
      "text/plain": [
       "                        MSSubClass\n",
       "0             2-STORY 1946 & NEWER\n",
       "1  1-STORY 1946 & NEWER ALL STYLES\n",
       "2             2-STORY 1946 & NEWER\n",
       "3             2-STORY 1945 & OLDER\n",
       "4             2-STORY 1946 & NEWER"
      ]
     },
     "execution_count": 23,
     "metadata": {},
     "output_type": "execute_result"
    }
   ],
   "source": [
    "# Changing MSSubClass for ease of use (and possible feature engineering with other columns)\n",
    "mssc_dict = {20: '1-STORY 1946 & NEWER ALL STYLES',\n",
    "             30: '1-STORY 1945 & OLDER',\n",
    "             40: '1-STORY W/FINISHED ATTIC ALL AGES',\n",
    "             45: '1-1/2 STORY - UNFINISHED ALL AGES',\n",
    "             50: '1-1/2 STORY FINISHED ALL AGES',\n",
    "             60: '2-STORY 1946 & NEWER',\n",
    "             70: '2-STORY 1945 & OLDER',\n",
    "             75: '2-1/2 STORY ALL AGES',\n",
    "             80: 'SPLIT OR MULTI-LEVEL',\n",
    "             85: 'SPLIT FOYER',\n",
    "             90: 'DUPLEX - ALL STYLES AND AGES',\n",
    "             120: '1-STORY PUD (Planned Unit Development) - 1946 & NEWER',\n",
    "             150: '1-1/2 STORY PUD - ALL AGES',\n",
    "             160: '2-STORY PUD - 1946 & NEWER',\n",
    "             180: 'PUD - MULTILEVEL - INCL SPLIT LEV/FOYER',\n",
    "             190: '2 FAMILY CONVERSION - ALL STYLES AND AGES'}\n",
    "\n",
    "\n",
    "for k in mssc_dict:\n",
    "    combo.loc[combo['MSSubClass']==k, 'MSSubClass'] = mssc_dict[k]\n",
    "    \n",
    "combo[['MSSubClass']].head()"
   ]
  },
  {
   "cell_type": "code",
   "execution_count": 24,
   "metadata": {
    "scrolled": true
   },
   "outputs": [
    {
     "data": {
      "text/plain": [
       "array(['RL', 'RM', 'C', 'FV', 'RH'], dtype=object)"
      ]
     },
     "execution_count": 24,
     "metadata": {},
     "output_type": "execute_result"
    }
   ],
   "source": [
    "# Changing typo in MS Zoning\n",
    "combo.loc[combo['MSZoning']=='C (all)', 'MSZoning'] = 'C'\n",
    "\n",
    "combo['MSZoning'].unique()"
   ]
  },
  {
   "cell_type": "code",
   "execution_count": 25,
   "metadata": {},
   "outputs": [
    {
     "data": {
      "text/plain": [
       "array(['1Fam', '2fmCon', 'Duplex', 'TwnhsE', 'TwnhsI'], dtype=object)"
      ]
     },
     "execution_count": 25,
     "metadata": {},
     "output_type": "execute_result"
    }
   ],
   "source": [
    "# correcting spelling error\n",
    "combo.loc[combo['BldgType']=='Twnhs', 'BldgType'] = 'TwnhsI'\n",
    "\n",
    "combo['BldgType'].unique()"
   ]
  },
  {
   "cell_type": "markdown",
   "metadata": {},
   "source": [
    "# Separating and saving data"
   ]
  },
  {
   "cell_type": "code",
   "execution_count": 26,
   "metadata": {
    "scrolled": true
   },
   "outputs": [
    {
     "name": "stdout",
     "output_type": "stream",
     "text": [
      "<class 'pandas.core.frame.DataFrame'>\n",
      "RangeIndex: 2917 entries, 0 to 2916\n",
      "Data columns (total 79 columns):\n",
      " #   Column         Non-Null Count  Dtype  \n",
      "---  ------         --------------  -----  \n",
      " 0   MSSubClass     2917 non-null   object \n",
      " 1   MSZoning       2917 non-null   object \n",
      " 2   LotFrontage    2917 non-null   float64\n",
      " 3   LotArea        2917 non-null   float64\n",
      " 4   Street         2917 non-null   float64\n",
      " 5   Alley          2917 non-null   float64\n",
      " 6   LotShape       2917 non-null   object \n",
      " 7   LandContour    2917 non-null   object \n",
      " 8   Utilities      2917 non-null   float64\n",
      " 9   LotConfig      2917 non-null   object \n",
      " 10  LandSlope      2917 non-null   object \n",
      " 11  Neighborhood   2917 non-null   object \n",
      " 12  Condition1     2917 non-null   object \n",
      " 13  Condition2     2917 non-null   object \n",
      " 14  BldgType       2917 non-null   object \n",
      " 15  HouseStyle     2917 non-null   object \n",
      " 16  OverallQual    2917 non-null   float64\n",
      " 17  OverallCond    2917 non-null   float64\n",
      " 18  YearBuilt      2917 non-null   float64\n",
      " 19  YearRemodAdd   2917 non-null   float64\n",
      " 20  RoofStyle      2917 non-null   object \n",
      " 21  RoofMatl       2917 non-null   object \n",
      " 22  Exterior1st    2917 non-null   object \n",
      " 23  Exterior2nd    2917 non-null   object \n",
      " 24  MasVnrType     2917 non-null   object \n",
      " 25  MasVnrArea     2917 non-null   float64\n",
      " 26  ExterQual      2917 non-null   float64\n",
      " 27  ExterCond      2917 non-null   float64\n",
      " 28  Foundation     2917 non-null   object \n",
      " 29  BsmtQual       2917 non-null   float64\n",
      " 30  BsmtCond       2917 non-null   float64\n",
      " 31  BsmtExposure   2917 non-null   float64\n",
      " 32  BsmtFinType1   2917 non-null   float64\n",
      " 33  BsmtFinSF1     2917 non-null   float64\n",
      " 34  BsmtFinType2   2917 non-null   float64\n",
      " 35  BsmtFinSF2     2917 non-null   float64\n",
      " 36  BsmtUnfSF      2917 non-null   float64\n",
      " 37  TotalBsmtSF    2917 non-null   float64\n",
      " 38  Heating        2917 non-null   object \n",
      " 39  HeatingQC      2917 non-null   float64\n",
      " 40  CentralAir     2917 non-null   float64\n",
      " 41  Electrical     2917 non-null   float64\n",
      " 42  1stFlrSF       2917 non-null   float64\n",
      " 43  2ndFlrSF       2917 non-null   float64\n",
      " 44  LowQualFinSF   2917 non-null   float64\n",
      " 45  GrLivArea      2917 non-null   float64\n",
      " 46  BsmtFullBath   2917 non-null   float64\n",
      " 47  BsmtHalfBath   2917 non-null   float64\n",
      " 48  FullBath       2917 non-null   float64\n",
      " 49  HalfBath       2917 non-null   float64\n",
      " 50  BedroomAbvGr   2917 non-null   float64\n",
      " 51  KitchenAbvGr   2917 non-null   float64\n",
      " 52  KitchenQual    2917 non-null   float64\n",
      " 53  TotRmsAbvGrd   2917 non-null   float64\n",
      " 54  Functional     2917 non-null   float64\n",
      " 55  Fireplaces     2917 non-null   float64\n",
      " 56  FireplaceQu    2917 non-null   object \n",
      " 57  GarageType     2917 non-null   object \n",
      " 58  GarageYrBlt    2917 non-null   float64\n",
      " 59  GarageFinish   2917 non-null   float64\n",
      " 60  GarageCars     2917 non-null   float64\n",
      " 61  GarageArea     2917 non-null   float64\n",
      " 62  GarageQual     2917 non-null   float64\n",
      " 63  GarageCond     2917 non-null   float64\n",
      " 64  PavedDrive     2917 non-null   float64\n",
      " 65  WoodDeckSF     2917 non-null   float64\n",
      " 66  OpenPorchSF    2917 non-null   float64\n",
      " 67  EnclosedPorch  2917 non-null   float64\n",
      " 68  3SsnPorch      2917 non-null   float64\n",
      " 69  ScreenPorch    2917 non-null   float64\n",
      " 70  PoolArea       2917 non-null   float64\n",
      " 71  PoolQC         2917 non-null   float64\n",
      " 72  Fence          2917 non-null   float64\n",
      " 73  MiscFeature    2917 non-null   object \n",
      " 74  MiscVal        2917 non-null   float64\n",
      " 75  MoSold         2917 non-null   float64\n",
      " 76  YrSold         2917 non-null   float64\n",
      " 77  SaleType       2917 non-null   object \n",
      " 78  SaleCondition  2917 non-null   object \n",
      "dtypes: float64(56), object(23)\n",
      "memory usage: 1.8+ MB\n"
     ]
    }
   ],
   "source": [
    "# converting columns containing numbers to numeric type\n",
    "for col in combo.columns: \n",
    "    combo[col] = combo[col].astype('float', errors='ignore')\n",
    "    \n",
    "combo.info()"
   ]
  },
  {
   "cell_type": "code",
   "execution_count": 27,
   "metadata": {},
   "outputs": [],
   "source": [
    "import copy\n",
    "\n",
    "# get the reduced dataset of what \n",
    "combo_red = copy.deepcopy(combo[intx_tokeep])\n",
    "\n",
    "\n",
    "hp_train, hp_train_red = combo.loc[hp_index], combo_red.loc[hp_index]\n",
    "hp_test, hp_test_red = combo.loc[1458:], combo_red.loc[1458:]\n",
    "\n",
    "# saving the imputed datasets\n",
    "hp_train.to_csv('..\\hp_2a_ranked_edited_train.csv')\n",
    "hp_test.to_csv('..\\hp_2a_ranked_edited_test.csv')\n",
    "\n",
    "hp_train_red.to_csv('..\\hp_2a_ranked_edited_train_red.csv')\n",
    "hp_test_red.to_csv('..\\hp_2a_ranked_edited_test_red.csv')"
   ]
  },
  {
   "cell_type": "code",
   "execution_count": 28,
   "metadata": {},
   "outputs": [],
   "source": [
    "# dummify the variables\n",
    "hp_dum = pd.get_dummies(combo, drop_first=True)\n",
    "hp_dum_red = pd.get_dummies(combo_red, drop_first=True)\n",
    "\n",
    "hp_list = [hp_dum, hp_dum_red]\n",
    "\n",
    "# one hot encoding for mssubclass since it is numeric\n",
    "from sklearn.preprocessing import OneHotEncoder\n",
    "enc = OneHotEncoder()\n",
    "\n",
    "for feat in ['MoSold', 'YrSold']:\n",
    "    for i, df in enumerate(hp_list):\n",
    "        if feat in df.columns:\n",
    "            # encode the feature\n",
    "            enc.fit(df[[feat]])\n",
    "            # create array and then dataframe of the array\n",
    "            oh_labels = enc.transform(df[[feat]]).toarray()\n",
    "            mssubcl_dum = pd.DataFrame(oh_labels)\n",
    "            mssubcl_dum.columns = enc.get_feature_names([feat])\n",
    "            # Concatenate the dataframes and drop Id and original MSSubClass\n",
    "            df = pd.concat([df, mssubcl_dum], axis=1, sort=False)\n",
    "            df = df.drop([feat], axis=1)\n",
    "            \n",
    "        if i == 0:\n",
    "            hp_train_dum = df.loc[hp_index]\n",
    "            hp_test_dum = df.loc[1458:]  \n",
    "        else:\n",
    "            hp_train_dum_red = df.loc[hp_index]\n",
    "            hp_test_dum_red = df.loc[1458:]            \n",
    "\n",
    "# saving the imputed AND dummified datasets\n",
    "hp_train_dum.to_csv('..\\hp_2a_ranked_edited_dum_train.csv')\n",
    "hp_test_dum.to_csv('..\\hp_2a_ranked_edited_dum_test.csv')\n",
    "\n",
    "# saving the imputed AND dummified datasets\n",
    "hp_train_dum_red.to_csv('..\\hp_2a_ranked_edited_dum_train_red.csv')\n",
    "hp_test_dum_red.to_csv('..\\hp_2a_ranked_edited_dum_test_red.csv')\n",
    "\n",
    "combo_dum = pd.DataFrame(np.concatenate([hp_train_dum, hp_test_dum]))\n",
    "combo_dum.columns = hp_train_dum.columns\n",
    "\n",
    "combo_dum_red = pd.DataFrame(np.concatenate([hp_train_dum_red, hp_test_dum_red]))\n",
    "combo_dum_red.columns = hp_train_dum_red.columns"
   ]
  },
  {
   "cell_type": "code",
   "execution_count": 29,
   "metadata": {},
   "outputs": [],
   "source": [
    "# scaling the dataset\n",
    "from sklearn.preprocessing import MinMaxScaler\n",
    "\n",
    "red_list = [combo_dum, combo_dum_red]\n",
    "\n",
    "for i, df in enumerate(red_list):\n",
    "    df_cols = list(df.columns)\n",
    "    df_full = copy.deepcopy(df)\n",
    "\n",
    "    for col in df_cols:\n",
    "        df_full[col] = MinMaxScaler().fit_transform(np.array(df_full[col]).reshape(-1,1))\n",
    "    \n",
    "    if i == 0:\n",
    "        hp_train_full = df_full.loc[hp_index]\n",
    "        hp_test_full = df_full.loc[1458:]  \n",
    "    else:\n",
    "        hp_train_full_red = df_full.loc[hp_index]\n",
    "        hp_test_full_red = df_full.loc[1458:]\n",
    "\n",
    "# saving the imputed AND dummified AND scaled datasets\n",
    "hp_train_full.to_csv('..\\hp_2a_ranked_edited_dum_full_train.csv')\n",
    "hp_test_full.to_csv('..\\hp_2a_ranked_edited_dum_full_test.csv')\n",
    "\n",
    "hp_train_full_red.to_csv('..\\hp_2a_ranked_edited_dum_full_train_red.csv')\n",
    "hp_test_full_red.to_csv('..\\hp_2a_ranked_edited_dum_full_test_red.csv')"
   ]
  },
  {
   "cell_type": "code",
   "execution_count": null,
   "metadata": {},
   "outputs": [],
   "source": []
  },
  {
   "cell_type": "code",
   "execution_count": null,
   "metadata": {},
   "outputs": [],
   "source": []
  },
  {
   "cell_type": "code",
   "execution_count": null,
   "metadata": {},
   "outputs": [],
   "source": []
  },
  {
   "cell_type": "code",
   "execution_count": null,
   "metadata": {},
   "outputs": [],
   "source": []
  },
  {
   "cell_type": "code",
   "execution_count": null,
   "metadata": {},
   "outputs": [],
   "source": []
  },
  {
   "cell_type": "code",
   "execution_count": null,
   "metadata": {},
   "outputs": [],
   "source": []
  },
  {
   "cell_type": "code",
   "execution_count": null,
   "metadata": {},
   "outputs": [],
   "source": []
  }
 ],
 "metadata": {
  "kernelspec": {
   "display_name": "Python 3",
   "language": "python",
   "name": "python3"
  },
  "language_info": {
   "codemirror_mode": {
    "name": "ipython",
    "version": 3
   },
   "file_extension": ".py",
   "mimetype": "text/x-python",
   "name": "python",
   "nbconvert_exporter": "python",
   "pygments_lexer": "ipython3",
   "version": "3.8.5"
  }
 },
 "nbformat": 4,
 "nbformat_minor": 4
}
